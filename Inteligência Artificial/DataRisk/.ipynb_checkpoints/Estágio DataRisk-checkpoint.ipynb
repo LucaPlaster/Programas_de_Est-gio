{
 "cells": [
  {
   "cell_type": "code",
   "execution_count": 2,
   "id": "5d7ffd63",
   "metadata": {},
   "outputs": [
    {
     "name": "stderr",
     "output_type": "stream",
     "text": [
      "C:\\Users\\lucam\\anaconda3\\lib\\site-packages\\sklearn\\linear_model\\_logistic.py:814: ConvergenceWarning: lbfgs failed to converge (status=1):\n",
      "STOP: TOTAL NO. of ITERATIONS REACHED LIMIT.\n",
      "\n",
      "Increase the number of iterations (max_iter) or scale the data as shown in:\n",
      "    https://scikit-learn.org/stable/modules/preprocessing.html\n",
      "Please also refer to the documentation for alternative solver options:\n",
      "    https://scikit-learn.org/stable/modules/linear_model.html#logistic-regression\n",
      "  n_iter_i = _check_optimize_result(\n"
     ]
    },
    {
     "name": "stdout",
     "output_type": "stream",
     "text": [
      "Relatório de classificação para o conjunto de treino:\n",
      "              precision    recall  f1-score   support\n",
      "\n",
      "         0.0       0.93      1.00      0.97    102669\n",
      "         1.0       0.50      0.01      0.03      7331\n",
      "\n",
      "    accuracy                           0.93    110000\n",
      "   macro avg       0.72      0.51      0.50    110000\n",
      "weighted avg       0.91      0.93      0.90    110000\n",
      "\n"
     ]
    }
   ],
   "source": [
    "# Importando as bibliotecas para a execução do código\n",
    "import numpy as np\n",
    "import pandas as pd\n",
    "from sklearn.model_selection import train_test_split\n",
    "from sklearn.linear_model import LogisticRegression\n",
    "from sklearn.metrics import classification_report\n",
    "from sklearn.impute import SimpleImputer\n",
    "\n",
    "df_test = pd.read_csv(\"teste.csv\")\n",
    "# Lê o arquivo teste.csv e armazena os dados em um objeto do tipo DataFrame chamado df_test.\n",
    "\n",
    "imp_median = SimpleImputer(missing_values=float(\"nan\"), strategy='median')\n",
    "df_test = pd.DataFrame(imp_median.fit_transform(df_test), columns=df_test.columns)\n",
    "# Preenchem os valores faltantes no DataFrame df_test com a mediana de cada coluna, \n",
    "# utilizando um objeto SimpleImputer da biblioteca sklearn. \n",
    "\n",
    "df_test = df_test.replace([np.inf, -np.inf], np.nan)\n",
    "df_test = df_test.dropna()\n",
    "# Removem as observações com valores infinitos ou muito grandes do DataFrame df_test.\n",
    "\n",
    "df_train = pd.read_csv(\"treino.csv\")\n",
    "# Lendo os dados de treino\n",
    "\n",
    "imp_median = SimpleImputer(missing_values=float(\"nan\"), strategy='median')\n",
    "df_train = pd.DataFrame(imp_median.fit_transform(df_train), columns=df_train.columns)\n",
    "df_train = df_train.replace([np.inf, -np.inf], np.nan)\n",
    "df_train = df_train.dropna()\n",
    "# Realizam o mesmo processo feito para os dados de teste, mas agora para os dados de treino.\n",
    "\n",
    "X_train = df_train.drop(\"inadimplente\", axis=1)\n",
    "y_train = df_train[\"inadimplente\"]\n",
    "X_test = df_test\n",
    "# Separam as variáveis preditoras (armazenadas em X_train e X_test) da variável target \n",
    "# (armazenada em y_train). A variável target não é utilizada para fazer as previsões no conjunto de teste.\n",
    "\n",
    "lr = LogisticRegression()\n",
    "lr.fit(X_train, y_train)\n",
    "# criam um objeto do tipo LogisticRegression da biblioteca sklearn e treinam o modelo utilizando os dados de treino.\n",
    "\n",
    "y_pred_test = lr.predict(X_test)\n",
    "# Essa linha gera as previsões no conjunto de teste utilizando o modelo treinado.\n",
    "\n",
    "df_test['inadimplente'] = y_pred_test\n",
    "# Adiciona uma nova coluna chamada \"inadimplente\" no DataFrame df_test com as previsões geradas pelo modelo.\n",
    "\n",
    "df_train['inadimplente'] = df_train['inadimplente'].replace({1: 0, 2: 1})\n",
    "\n",
    "df_test.to_csv(\"teste_com_previsoes.csv\", index=False)\n",
    "# Salva o DataFrame df_test com a nova coluna em um novo arquivo chamado teste_com_previsoes.csv.\n",
    "\n",
    "y_train_pred = lr.predict(X_train)\n",
    "print(\"Relatório de classificação para o conjunto de treino:\")\n",
    "print(classification_report(y_train, y_train_pred))\n",
    "# Geram um relatório de classificação para o conjunto de treino,\n",
    "# que avalia o quão bem o modelo treinado se ajustou aos dados de treino.\n"
   ]
  },
  {
   "cell_type": "code",
   "execution_count": null,
   "id": "44cd456d",
   "metadata": {},
   "outputs": [],
   "source": []
  }
 ],
 "metadata": {
  "kernelspec": {
   "display_name": "Python 3 (ipykernel)",
   "language": "python",
   "name": "python3"
  },
  "language_info": {
   "codemirror_mode": {
    "name": "ipython",
    "version": 3
   },
   "file_extension": ".py",
   "mimetype": "text/x-python",
   "name": "python",
   "nbconvert_exporter": "python",
   "pygments_lexer": "ipython3",
   "version": "3.9.13"
  }
 },
 "nbformat": 4,
 "nbformat_minor": 5
}
